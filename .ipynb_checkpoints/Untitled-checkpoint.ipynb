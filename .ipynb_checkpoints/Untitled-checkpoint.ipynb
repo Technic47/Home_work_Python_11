{
 "cells": [
  {
   "cell_type": "markdown",
   "id": "373187e4",
   "metadata": {},
   "source": [
    "f(x) = -12x^4*sin(cos(x)) - 18x^3+5x^2 + 10x - 30\n",
    "\n",
    "1. Определить корни\n",
    "2. Найти интервалы, на которых функция возрастает\n",
    "3. Найти интервалы, на которых функция убывает\n",
    "4. Построить график\n",
    "5. Вычислить вершину\n",
    "6. Определить промежутки, на котором f > 0\n",
    "7. Определить промежутки, на котором f < 0"
   ]
  },
  {
   "cell_type": "code",
   "execution_count": 3,
   "id": "f2ffd2c2",
   "metadata": {},
   "outputs": [],
   "source": [
    "import sympy\n",
    "import matplotlib.pyplot as plt\n",
    "from sympy import *\n",
    "from sympy.abc import x, y"
   ]
  },
  {
   "cell_type": "markdown",
   "id": "7426e0cc",
   "metadata": {},
   "source": [
    "4. Построить график"
   ]
  },
  {
   "cell_type": "code",
   "execution_count": 47,
   "id": "2c8305a8",
   "metadata": {},
   "outputs": [
    {
     "data": {
      "image/png": "[encoded data removed]",
      "text/plain": [
       "<Figure size 864x864 with 1 Axes>"
      ]
     },
     "metadata": {
      "needs_background": "light"
     },
     "output_type": "display_data"
    }
   ],
   "source": [
    "x = [(-12*(x**4)*sin(cos(x)) - 18*(x**3)+5*(x**2) + 10*x - 30) for x in range(-10, 11)]\n",
    "y = [y for y in range(-10, 11)]\n",
    "\n",
    "fig = plt.figure()\n",
    "\n",
    "ax_3 = fig.add_subplot(2, 2, 4)\n",
    "\n",
    "ax_3.plot(y, x)\n",
    "ax_3.grid(axis = 'both')\n",
    "ax_3.set_title('some stuff')\n",
    "\n",
    "fig.set_figwidth(12)\n",
    "fig.set_figheight(12)\n",
    "\n",
    "plt.show()"
   ]
  },
  {
   "cell_type": "markdown",
   "id": "2e2e19aa",
   "metadata": {},
   "source": [
    "5. Вычислить вершины"
   ]
  },
  {
   "cell_type": "code",
   "execution_count": 81,
   "id": "d3afb379",
   "metadata": {},
   "outputs": [],
   "source": [
    "import numpy as np\n",
    "from scipy.signal import argrelextrema\n",
    "\n",
    "i = -10\n",
    "data = []\n",
    "indexes = []\n",
    "while i < 10:\n",
    "    res = -12*(i**4)*sin(cos(i)) - 18*(i**3)+5*(i**2) + 10*i - 30\n",
    "    data.append(round(res, 2))\n",
    "    if i not in indexes:\n",
    "        indexes.append(round(i, 2))\n",
    "    i += 0.01 # меньше шаг - больше точность. 0.001 уже долго считает\n",
    "\n",
    "np_data = np.array(data)\n",
    "indexes_min = argrelextrema(np_data, np.less)[0]\n",
    "indexes_max = argrelextrema(np_data, np.greater)[0]\n",
    "idx_extr = np.sort(np.concatenate((indexes_min, indexes_max)))"
   ]
  },
  {
   "cell_type": "code",
   "execution_count": 82,
   "id": "ef710ae1",
   "metadata": {},
   "outputs": [
    {
     "name": "stdout",
     "output_type": "stream",
     "text": [
      "[107677.98 -13820.51 3111.35 -74.11 872.25 -25610.49 72634.27]\n"
     ]
    }
   ],
   "source": [
    "print(np_data[idx_extr])"
   ]
  },
  {
   "cell_type": "markdown",
   "id": "fbe424d8",
   "metadata": {},
   "source": [
    "1. Определить корни (примерно)\n",
    "6. Определить промежутки, на котором f > 0\n",
    "7. Определить промежутки, на котором f < 0"
   ]
  },
  {
   "cell_type": "code",
   "execution_count": 87,
   "id": "1d5182ab",
   "metadata": {},
   "outputs": [
    {
     "name": "stdout",
     "output_type": "stream",
     "text": [
      "f > 0\n",
      " 362.23, -23.86, root(aprox): -7.65\n",
      "f < 0\n",
      " -23.20,  50.58, root(aprox): -5.02\n",
      "f > 0\n",
      "   0.11,  -0.98, root(aprox): -1.33\n",
      "f < 0\n",
      "  -0.88,   2.02, root(aprox):  2.28\n",
      "f > 0\n",
      "  12.90, -24.01, root(aprox):  4.39\n",
      "f < 0\n",
      " -255.06, 239.61, root(aprox):  8.04\n"
     ]
    }
   ],
   "source": [
    "for i in range(len(np_data)):\n",
    "    if np_data[i] < 0 and np_data[i-1] > 0:\n",
    "        print(f'f > 0\\n {np_data[i-1]:6}, {np_data[i]:6}, root(aprox):{indexes[i]:6}')\n",
    "    if np_data[i] > 0 and np_data[i-1] < 0:\n",
    "        print(f'f < 0\\n {np_data[i-1]:6}, {np_data[i]:6}, root(aprox):{indexes[i]:6}')\n"
   ]
  },
  {
   "cell_type": "markdown",
   "id": "c440418f",
   "metadata": {},
   "source": [
    "2. Найти интервалы, на которых функция возрастает"
   ]
  },
  {
   "cell_type": "code",
   "execution_count": 105,
   "id": "0ffab526",
   "metadata": {},
   "outputs": [
    {
     "name": "stdout",
     "output_type": "stream",
     "text": [
      "[107677.98, -13820.51, 3111.35, -74.11, 872.25, -25610.49, 72634.27]\n",
      "107677.98 <-> -13820.51, fall\n",
      "-13820.51 <->   3111.35, rize\n",
      "  3111.35 <->    -74.11, fall\n",
      "   -74.11 <->    872.25, rize\n",
      "   872.25 <-> -25610.49, fall\n",
      "-25610.49 <->  72634.27, rize\n"
     ]
    }
   ],
   "source": [
    "data = []\n",
    "for i in np_data[idx_extr]:\n",
    "    data.append(i)\n",
    "print(data)\n",
    "for i in range(1, len(data)):\n",
    "    if data[i] < data[i-1]:\n",
    "        print(f'{data[i-1]:9} <-> {data[i]:9}, fall')\n",
    "    if data[i] > data[i-1]:\n",
    "        print(f'{data[i-1]:9} <-> {data[i]:9}, rize')\n"
   ]
  }
 ],
 "metadata": {
  "kernelspec": {
   "display_name": "Python 3 (ipykernel)",
   "language": "python",
   "name": "python3"
  },
  "language_info": {
   "codemirror_mode": {
    "name": "ipython",
    "version": 3
   },
   "file_extension": ".py",
   "mimetype": "text/x-python",
   "name": "python",
   "nbconvert_exporter": "python",
   "pygments_lexer": "ipython3",
   "version": "3.9.12"
  }
 },
 "nbformat": 4,
 "nbformat_minor": 5
}
